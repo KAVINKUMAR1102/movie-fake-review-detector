{
 "cells": [
  {
   "cell_type": "markdown",
   "metadata": {
    "id": "61IxBiYMVXLh"
   },
   "source": [
    "# Fake Reviews Detection on Movie Reviews through Sentiment Analysis\n",
    "\n",
    "\n",
    "### By Kavin Kumar, Nalinraj, N Nanda Kishore Reddy, T Hemaachandhan"
   ]
  },
  {
   "cell_type": "markdown",
   "metadata": {
    "id": "SyhV6GAPVfo_"
   },
   "source": [
    "-----------------\n",
    "\n",
    "### Problem Statement\n",
    "\n",
    "--------------------\n",
    "\n",
    "\n",
    "##### Sentiment analysis or opinion mining is a natural language processing (NLP) technique used to determine the polarity of a given text - whether it is positive, negative, or neutral.\n",
    "##### One of the main issues under sentiment analysis is the extraction of emotions from opinion reviews and identification of fake positive and fake negative reviews from them.\n"
   ]
  },
  {
   "cell_type": "markdown",
   "metadata": {
    "id": "wQTXrHR9fT0D"
   },
   "source": [
    "------------\n",
    "#### Importing Libraries\n",
    "------------"
   ]
  },
  {
   "cell_type": "code",
   "execution_count": 1,
   "metadata": {
    "id": "tp9EnDMDbYK7"
   },
   "outputs": [
    {
     "name": "stderr",
     "output_type": "stream",
     "text": [
      "[nltk_data] Downloading package stopwords to\n",
      "[nltk_data]     C:\\Users\\kavin\\AppData\\Roaming\\nltk_data...\n",
      "[nltk_data]   Package stopwords is already up-to-date!\n",
      "[nltk_data] Downloading package wordnet to\n",
      "[nltk_data]     C:\\Users\\kavin\\AppData\\Roaming\\nltk_data...\n",
      "[nltk_data]   Package wordnet is already up-to-date!\n",
      "[nltk_data] Downloading package omw-1.4 to\n",
      "[nltk_data]     C:\\Users\\kavin\\AppData\\Roaming\\nltk_data...\n",
      "[nltk_data]   Package omw-1.4 is already up-to-date!\n"
     ]
    },
    {
     "data": {
      "text/plain": [
       "True"
      ]
     },
     "execution_count": 1,
     "metadata": {},
     "output_type": "execute_result"
    }
   ],
   "source": [
    "import pandas as pd\n",
    "import re,string\n",
    "import numpy as np\n",
    "import seaborn as sns\n",
    "import matplotlib.pyplot as plt\n",
    "import nltk\n",
    "from nltk.corpus import stopwords\n",
    "from sklearn.metrics import classification_report,confusion_matrix,accuracy_score,f1_score\n",
    "from sklearn.model_selection import train_test_split\n",
    "from sklearn.linear_model import LogisticRegression\n",
    "from sklearn.feature_extraction.text import TfidfVectorizer\n",
    "from sklearn.feature_extraction.text import CountVectorizer\n",
    "from xgboost.sklearn import XGBClassifier\n",
    "nltk.download('stopwords')\n",
    "nltk.download('wordnet')\n",
    "nltk.download('omw-1.4')"
   ]
  },
  {
   "cell_type": "markdown",
   "metadata": {
    "id": "Ltxe2pRxfYm-"
   },
   "source": [
    "----------\n",
    "#### Importing the Dataset \n",
    "-----------"
   ]
  },
  {
   "cell_type": "code",
   "execution_count": 2,
   "metadata": {
    "colab": {
     "base_uri": "https://localhost:8080/"
    },
    "id": "DgEF-WgIb8n_",
    "outputId": "9960ddf1-62df-4b42-8ac7-32ea1dea3f7b"
   },
   "outputs": [
    {
     "name": "stdout",
     "output_type": "stream",
     "text": [
      "<bound method NDFrame.describe of                                                   review sentiment\n",
      "0      One of the other reviewers has mentioned that ...  positive\n",
      "1      A wonderful little production. <br /><br />The...  positive\n",
      "2      I thought this was a wonderful way to spend ti...  positive\n",
      "3      Basically there's a family where a little boy ...  negative\n",
      "4      Petter Mattei's \"Love in the Time of Money\" is...  positive\n",
      "...                                                  ...       ...\n",
      "49995  I thought this movie did a down right good job...  positive\n",
      "49996  Bad plot, bad dialogue, bad acting, idiotic di...  negative\n",
      "49997  I am a Catholic taught in parochial elementary...  negative\n",
      "49998  I'm going to have to disagree with the previou...  negative\n",
      "49999  No one expects the Star Trek movies to be high...  negative\n",
      "\n",
      "[50000 rows x 2 columns]>\n"
     ]
    }
   ],
   "source": [
    "data = pd.read_csv(r\"C:\\Users\\kavin\\Desktop\\PCL 6th sem\\APPLICATION\\Fake-Reviews-Detection-on-Movie-Reviews-through-Sentiment-Analysis\\IMDB Dataset.csv\")\n",
    "\n",
    "print(data.describe)"
   ]
  },
  {
   "cell_type": "markdown",
   "metadata": {
    "id": "uTAhCC8pgO3m"
   },
   "source": [
    "------------\n",
    "#### Changing the target variables\n",
    "-----------\n",
    "\n",
    "##### '1' represents positive review and '0' represents negative review"
   ]
  },
  {
   "cell_type": "code",
   "execution_count": 3,
   "metadata": {
    "colab": {
     "base_uri": "https://localhost:8080/",
     "height": 206
    },
    "id": "Sx8DOtdogOh_",
    "outputId": "ed6716a4-f625-4236-9366-79cea63af9db"
   },
   "outputs": [
    {
     "data": {
      "text/html": [
       "<div>\n",
       "<style scoped>\n",
       "    .dataframe tbody tr th:only-of-type {\n",
       "        vertical-align: middle;\n",
       "    }\n",
       "\n",
       "    .dataframe tbody tr th {\n",
       "        vertical-align: top;\n",
       "    }\n",
       "\n",
       "    .dataframe thead th {\n",
       "        text-align: right;\n",
       "    }\n",
       "</style>\n",
       "<table border=\"1\" class=\"dataframe\">\n",
       "  <thead>\n",
       "    <tr style=\"text-align: right;\">\n",
       "      <th></th>\n",
       "      <th>review</th>\n",
       "      <th>sentiment</th>\n",
       "    </tr>\n",
       "  </thead>\n",
       "  <tbody>\n",
       "    <tr>\n",
       "      <th>0</th>\n",
       "      <td>One of the other reviewers has mentioned that ...</td>\n",
       "      <td>1</td>\n",
       "    </tr>\n",
       "    <tr>\n",
       "      <th>1</th>\n",
       "      <td>A wonderful little production. &lt;br /&gt;&lt;br /&gt;The...</td>\n",
       "      <td>1</td>\n",
       "    </tr>\n",
       "    <tr>\n",
       "      <th>2</th>\n",
       "      <td>I thought this was a wonderful way to spend ti...</td>\n",
       "      <td>1</td>\n",
       "    </tr>\n",
       "    <tr>\n",
       "      <th>3</th>\n",
       "      <td>Basically there's a family where a little boy ...</td>\n",
       "      <td>0</td>\n",
       "    </tr>\n",
       "    <tr>\n",
       "      <th>4</th>\n",
       "      <td>Petter Mattei's \"Love in the Time of Money\" is...</td>\n",
       "      <td>1</td>\n",
       "    </tr>\n",
       "  </tbody>\n",
       "</table>\n",
       "</div>"
      ],
      "text/plain": [
       "                                              review  sentiment\n",
       "0  One of the other reviewers has mentioned that ...          1\n",
       "1  A wonderful little production. <br /><br />The...          1\n",
       "2  I thought this was a wonderful way to spend ti...          1\n",
       "3  Basically there's a family where a little boy ...          0\n",
       "4  Petter Mattei's \"Love in the Time of Money\" is...          1"
      ]
     },
     "execution_count": 3,
     "metadata": {},
     "output_type": "execute_result"
    }
   ],
   "source": [
    "data.sentiment=data.sentiment.apply(lambda x: 0 if x=='negative' else 1)\n",
    "\n",
    "data.head()"
   ]
  },
  {
   "cell_type": "markdown",
   "metadata": {
    "id": "Sa2GW20jhXaK"
   },
   "source": [
    "--------------\n",
    "# Feature Engineering\n",
    "-----------------\n",
    "\n",
    "#### Indirect Features\n",
    "##### This includes features that are derived from the dataset like:-\n",
    "\n",
    "*   Number of Sentences\n",
    "*   Number of Words\n",
    "*   Number of Unique Words\n",
    "*   Number of Punctuation Marks\n",
    "*   Number of Uppercase Words\n",
    "*   Number of Stop Words\n",
    "*   Average length of a word\n",
    "\n",
    "\n",
    "\n",
    "\n"
   ]
  },
  {
   "cell_type": "code",
   "execution_count": 4,
   "metadata": {
    "colab": {
     "base_uri": "https://localhost:8080/",
     "height": 669
    },
    "id": "VT9Nm6tQhfKl",
    "outputId": "193e17a4-0f9e-4d57-ac9f-cbdf9c1394b7"
   },
   "outputs": [
    {
     "data": {
      "text/html": [
       "<div>\n",
       "<style scoped>\n",
       "    .dataframe tbody tr th:only-of-type {\n",
       "        vertical-align: middle;\n",
       "    }\n",
       "\n",
       "    .dataframe tbody tr th {\n",
       "        vertical-align: top;\n",
       "    }\n",
       "\n",
       "    .dataframe thead th {\n",
       "        text-align: right;\n",
       "    }\n",
       "</style>\n",
       "<table border=\"1\" class=\"dataframe\">\n",
       "  <thead>\n",
       "    <tr style=\"text-align: right;\">\n",
       "      <th></th>\n",
       "      <th>review</th>\n",
       "      <th>count_sent</th>\n",
       "      <th>count_word</th>\n",
       "      <th>count_unique_word</th>\n",
       "      <th>count_letters</th>\n",
       "      <th>count_punctuations</th>\n",
       "      <th>count_words_upper</th>\n",
       "      <th>count_words_title</th>\n",
       "      <th>count_stopwords</th>\n",
       "      <th>mean_word_len</th>\n",
       "      <th>word_unique_percent</th>\n",
       "      <th>punct_percent</th>\n",
       "      <th>sentiment</th>\n",
       "    </tr>\n",
       "  </thead>\n",
       "  <tbody>\n",
       "    <tr>\n",
       "      <th>0</th>\n",
       "      <td>One of the other reviewers has mentioned that ...</td>\n",
       "      <td>1</td>\n",
       "      <td>307</td>\n",
       "      <td>208</td>\n",
       "      <td>1761</td>\n",
       "      <td>78</td>\n",
       "      <td>8</td>\n",
       "      <td>36</td>\n",
       "      <td>133</td>\n",
       "      <td>4.739414</td>\n",
       "      <td>67.752443</td>\n",
       "      <td>25.407166</td>\n",
       "      <td>1</td>\n",
       "    </tr>\n",
       "    <tr>\n",
       "      <th>1</th>\n",
       "      <td>A wonderful little production. &lt;br /&gt;&lt;br /&gt;The...</td>\n",
       "      <td>1</td>\n",
       "      <td>162</td>\n",
       "      <td>114</td>\n",
       "      <td>998</td>\n",
       "      <td>44</td>\n",
       "      <td>2</td>\n",
       "      <td>12</td>\n",
       "      <td>66</td>\n",
       "      <td>5.166667</td>\n",
       "      <td>70.370370</td>\n",
       "      <td>27.160494</td>\n",
       "      <td>1</td>\n",
       "    </tr>\n",
       "    <tr>\n",
       "      <th>2</th>\n",
       "      <td>I thought this was a wonderful way to spend ti...</td>\n",
       "      <td>1</td>\n",
       "      <td>166</td>\n",
       "      <td>121</td>\n",
       "      <td>926</td>\n",
       "      <td>40</td>\n",
       "      <td>3</td>\n",
       "      <td>20</td>\n",
       "      <td>76</td>\n",
       "      <td>4.584337</td>\n",
       "      <td>72.891566</td>\n",
       "      <td>24.096386</td>\n",
       "      <td>1</td>\n",
       "    </tr>\n",
       "    <tr>\n",
       "      <th>3</th>\n",
       "      <td>Basically there's a family where a little boy ...</td>\n",
       "      <td>1</td>\n",
       "      <td>138</td>\n",
       "      <td>96</td>\n",
       "      <td>748</td>\n",
       "      <td>42</td>\n",
       "      <td>3</td>\n",
       "      <td>13</td>\n",
       "      <td>62</td>\n",
       "      <td>4.427536</td>\n",
       "      <td>69.565217</td>\n",
       "      <td>30.434783</td>\n",
       "      <td>0</td>\n",
       "    </tr>\n",
       "    <tr>\n",
       "      <th>4</th>\n",
       "      <td>Petter Mattei's \"Love in the Time of Money\" is...</td>\n",
       "      <td>1</td>\n",
       "      <td>230</td>\n",
       "      <td>152</td>\n",
       "      <td>1317</td>\n",
       "      <td>56</td>\n",
       "      <td>1</td>\n",
       "      <td>31</td>\n",
       "      <td>96</td>\n",
       "      <td>4.730435</td>\n",
       "      <td>66.086957</td>\n",
       "      <td>24.347826</td>\n",
       "      <td>1</td>\n",
       "    </tr>\n",
       "  </tbody>\n",
       "</table>\n",
       "</div>"
      ],
      "text/plain": [
       "                                              review  count_sent  count_word  \\\n",
       "0  One of the other reviewers has mentioned that ...           1         307   \n",
       "1  A wonderful little production. <br /><br />The...           1         162   \n",
       "2  I thought this was a wonderful way to spend ti...           1         166   \n",
       "3  Basically there's a family where a little boy ...           1         138   \n",
       "4  Petter Mattei's \"Love in the Time of Money\" is...           1         230   \n",
       "\n",
       "   count_unique_word  count_letters  count_punctuations  count_words_upper  \\\n",
       "0                208           1761                  78                  8   \n",
       "1                114            998                  44                  2   \n",
       "2                121            926                  40                  3   \n",
       "3                 96            748                  42                  3   \n",
       "4                152           1317                  56                  1   \n",
       "\n",
       "   count_words_title  count_stopwords  mean_word_len  word_unique_percent  \\\n",
       "0                 36              133       4.739414            67.752443   \n",
       "1                 12               66       5.166667            70.370370   \n",
       "2                 20               76       4.584337            72.891566   \n",
       "3                 13               62       4.427536            69.565217   \n",
       "4                 31               96       4.730435            66.086957   \n",
       "\n",
       "   punct_percent  sentiment  \n",
       "0      25.407166          1  \n",
       "1      27.160494          1  \n",
       "2      24.096386          1  \n",
       "3      30.434783          0  \n",
       "4      24.347826          1  "
      ]
     },
     "execution_count": 4,
     "metadata": {},
     "output_type": "execute_result"
    }
   ],
   "source": [
    "eng_stopwords = set(stopwords.words(\"english\"))\n",
    "\n",
    "data['count_sent']=data[\"review\"].apply(lambda x: len(re.findall(\"\\n\",str(x)))+1)\n",
    "\n",
    "data['count_word']=data[\"review\"].apply(lambda x: len(str(x).split()))\n",
    "\n",
    "data['count_unique_word']=data[\"review\"].apply(lambda x: len(set(str(x).split())))\n",
    "\n",
    "data['count_letters']=data[\"review\"].apply(lambda x: len(str(x)))\n",
    "\n",
    "data[\"count_punctuations\"] =data[\"review\"].apply(lambda x: len([c for c in str(x) if c in string.punctuation]))\n",
    "\n",
    "data[\"count_words_upper\"] = data[\"review\"].apply(lambda x: len([w for w in str(x).split() if w.isupper()]))\n",
    "\n",
    "data[\"count_words_title\"] = data[\"review\"].apply(lambda x: len([w for w in str(x).split() if w.istitle()]))\n",
    "\n",
    "data[\"count_stopwords\"] = data[\"review\"].apply(lambda x: len([w for w in str(x).lower().split() if w in eng_stopwords]))\n",
    "\n",
    "data[\"mean_word_len\"] = data[\"review\"].apply(lambda x: np.mean([len(w) for w in str(x).split()]))\n",
    "\n",
    "data['word_unique_percent']=data['count_unique_word']*100/data['count_word']\n",
    "\n",
    "data['punct_percent']=data['count_punctuations']*100/data['count_word']\n",
    "\n",
    "data['word_unique_percent']=data['count_unique_word']*100/data['count_word']\n",
    "\n",
    "data['punct_percent']=data['count_punctuations']*100/data['count_word']\n",
    "\n",
    "data = data[['review', 'count_sent', 'count_word', 'count_unique_word',\n",
    "       'count_letters', 'count_punctuations', 'count_words_upper',\n",
    "       'count_words_title', 'count_stopwords', 'mean_word_len',\n",
    "       'word_unique_percent', 'punct_percent','sentiment']]\n",
    "\n",
    "data.head()"
   ]
  },
  {
   "cell_type": "markdown",
   "metadata": {
    "id": "iM7uWkXxi-Wy"
   },
   "source": [
    "---------\n",
    "### Visualisation of Data for Identifying Classification Approach\n",
    "-------------\n"
   ]
  },
  {
   "cell_type": "markdown",
   "metadata": {
    "id": "MS0gZQMwjJFV"
   },
   "source": [
    "#### 1) Visualisation of Word Count \n",
    "\n",
    "> Shows histograms to observe patterns in positive and negative reviews based on word count.\n",
    "\n"
   ]
  },
  {
   "cell_type": "code",
   "execution_count": 5,
   "metadata": {
    "colab": {
     "base_uri": "https://localhost:8080/",
     "height": 545
    },
    "id": "Eb9pEx32n8X8",
    "outputId": "9396b68f-0d21-4599-9219-e5143de764af"
   },
   "outputs": [
    {
     "data": {
      "image/png": "[encoded data removed]",
      "text/plain": [
       "<Figure size 640x480 with 1 Axes>"
      ]
     },
     "metadata": {},
     "output_type": "display_data"
    },
    {
     "data": {
      "image/png": "[encoded data removed]",
      "text/plain": [
       "<Figure size 640x480 with 1 Axes>"
      ]
     },
     "metadata": {},
     "output_type": "display_data"
    }
   ],
   "source": [
    "plt.hist(data[data['sentiment']==0]['count_word'],range=(0,1500),color='SkyBlue')\n",
    "plt.title('Negative Reviews')\n",
    "plt.show()\n",
    "\n",
    "plt.hist(data[data['sentiment']==1]['count_word'],range=(0,1500),color='PeachPuff')\n",
    "plt.title('Positive Reviews')\n",
    "plt.show()"
   ]
  },
  {
   "cell_type": "markdown",
   "metadata": {
    "id": "-ZZWVtLVamj5"
   },
   "source": [
    "#### Summary of all  features of the dataset.\n",
    "> Upon investigation, it can be inferred that there isn't a feature in the dataset that can be used to train a classification model. The classification model thus has to be built using word vectorizer and count vectorizer."
   ]
  },
  {
   "cell_type": "code",
   "execution_count": 6,
   "metadata": {
    "colab": {
     "base_uri": "https://localhost:8080/",
     "height": 176
    },
    "id": "mtrnbpa3omqX",
    "outputId": "9cd7178d-b91a-4444-dfa4-b1b57e008982"
   },
   "outputs": [
    {
     "data": {
      "text/html": [
       "<div>\n",
       "<style scoped>\n",
       "    .dataframe tbody tr th:only-of-type {\n",
       "        vertical-align: middle;\n",
       "    }\n",
       "\n",
       "    .dataframe tbody tr th {\n",
       "        vertical-align: top;\n",
       "    }\n",
       "\n",
       "    .dataframe thead th {\n",
       "        text-align: right;\n",
       "    }\n",
       "</style>\n",
       "<table border=\"1\" class=\"dataframe\">\n",
       "  <thead>\n",
       "    <tr style=\"text-align: right;\">\n",
       "      <th></th>\n",
       "      <th>sentiment</th>\n",
       "      <th>count_sent</th>\n",
       "      <th>count_word</th>\n",
       "      <th>count_unique_word</th>\n",
       "      <th>count_letters</th>\n",
       "      <th>count_punctuations</th>\n",
       "      <th>count_words_upper</th>\n",
       "      <th>count_words_title</th>\n",
       "      <th>count_stopwords</th>\n",
       "      <th>mean_word_len</th>\n",
       "      <th>word_unique_percent</th>\n",
       "      <th>punct_percent</th>\n",
       "    </tr>\n",
       "  </thead>\n",
       "  <tbody>\n",
       "    <tr>\n",
       "      <th>0</th>\n",
       "      <td>0</td>\n",
       "      <td>1.0</td>\n",
       "      <td>229.46456</td>\n",
       "      <td>152.2662</td>\n",
       "      <td>1294.06436</td>\n",
       "      <td>53.59836</td>\n",
       "      <td>5.14632</td>\n",
       "      <td>24.72780</td>\n",
       "      <td>103.38132</td>\n",
       "      <td>4.623461</td>\n",
       "      <td>70.896372</td>\n",
       "      <td>23.447622</td>\n",
       "    </tr>\n",
       "    <tr>\n",
       "      <th>1</th>\n",
       "      <td>1</td>\n",
       "      <td>1.0</td>\n",
       "      <td>232.84932</td>\n",
       "      <td>152.0156</td>\n",
       "      <td>1324.79768</td>\n",
       "      <td>51.55876</td>\n",
       "      <td>4.56928</td>\n",
       "      <td>27.96804</td>\n",
       "      <td>104.31900</td>\n",
       "      <td>4.657892</td>\n",
       "      <td>70.164729</td>\n",
       "      <td>22.077985</td>\n",
       "    </tr>\n",
       "  </tbody>\n",
       "</table>\n",
       "</div>"
      ],
      "text/plain": [
       "   sentiment  count_sent  count_word  count_unique_word  count_letters  \\\n",
       "0          0         1.0   229.46456           152.2662     1294.06436   \n",
       "1          1         1.0   232.84932           152.0156     1324.79768   \n",
       "\n",
       "   count_punctuations  count_words_upper  count_words_title  count_stopwords  \\\n",
       "0            53.59836            5.14632           24.72780        103.38132   \n",
       "1            51.55876            4.56928           27.96804        104.31900   \n",
       "\n",
       "   mean_word_len  word_unique_percent  punct_percent  \n",
       "0       4.623461            70.896372      23.447622  \n",
       "1       4.657892            70.164729      22.077985  "
      ]
     },
     "execution_count": 6,
     "metadata": {},
     "output_type": "execute_result"
    }
   ],
   "source": [
    "data.groupby(['sentiment'],as_index=False).mean()"
   ]
  },
  {
   "cell_type": "markdown",
   "metadata": {
    "id": "xdDF6CZAo_6I"
   },
   "source": [
    "----------\n",
    "### Preprocessing of Reviews\n",
    "----------\n",
    "#### In this section of the notebook we preprocessed the data before building the classification model. We implemented the following functions to clean the data before model building.\n",
    "\n",
    "* Removal of Punctuation Marks\n",
    "* Cleaning Contractions\n",
    "* Eliminated Stop Words\n",
    "* Removal of HTML tags and URLs\n",
    "* Lemmatization"
   ]
  },
  {
   "cell_type": "code",
   "execution_count": 7,
   "metadata": {
    "id": "gyB4hWfkpL-m"
   },
   "outputs": [],
   "source": [
    "# Removing all punctuations from review\n",
    "mapping = {\"ain't\": \"is not\", \"aren't\": \"are not\",\"can't\": \"cannot\", \"'cause\": \"because\", \"could've\": \"could have\", \"couldn't\": \"could not\", \"didn't\": \"did not\",  \"doesn't\": \"does not\", \"don't\": \"do not\", \"hadn't\": \"had not\", \"hasn't\": \"has not\", \"haven't\": \"have not\", \"he'd\": \"he would\",\"he'll\": \"he will\", \"he's\": \"he is\", \"how'd\": \"how did\", \"how'd'y\": \"how do you\", \"how'll\": \"how will\", \"how's\": \"how is\",  \"I'd\": \"I would\", \"I'd've\": \"I would have\", \"I'll\": \"I will\", \"I'll've\": \"I will have\",\"I'm\": \"I am\", \"I've\": \"I have\", \"i'd\": \"i would\", \"i'd've\": \"i would have\", \"i'll\": \"i will\",  \"i'll've\": \"i will have\",\"i'm\": \"i am\", \"i've\": \"i have\", \"isn't\": \"is not\", \"it'd\": \"it would\", \"it'd've\": \"it would have\", \"it'll\": \"it will\", \"it'll've\": \"it will have\",\"it's\": \"it is\", \"let's\": \"let us\", \"ma'am\": \"madam\", \"mayn't\": \"may not\", \"might've\": \"might have\",\"mightn't\": \"might not\",\"mightn't've\": \"might not have\", \"must've\": \"must have\", \"mustn't\": \"must not\", \"mustn't've\": \"must not have\", \"needn't\": \"need not\", \"needn't've\": \"need not have\",\"o'clock\": \"of the clock\", \"oughtn't\": \"ought not\", \"oughtn't've\": \"ought not have\", \"shan't\": \"shall not\", \"sha'n't\": \"shall not\", \"shan't've\": \"shall not have\", \"she'd\": \"she would\", \"she'd've\": \"she would have\", \"she'll\": \"she will\", \"she'll've\": \"she will have\", \"she's\": \"she is\", \"should've\": \"should have\", \"shouldn't\": \"should not\", \"shouldn't've\": \"should not have\", \"so've\": \"so have\",\"so's\": \"so as\", \"this's\": \"this is\",\"that'd\": \"that would\", \"that'd've\": \"that would have\", \"that's\": \"that is\", \"there'd\": \"there would\", \"there'd've\": \"there would have\", \"there's\": \"there is\", \"here's\": \"here is\",\"they'd\": \"they would\", \"they'd've\": \"they would have\", \"they'll\": \"they will\", \"they'll've\": \"they will have\", \"they're\": \"they are\", \"they've\": \"they have\", \"to've\": \"to have\", \"wasn't\": \"was not\", \"we'd\": \"we would\", \"we'd've\": \"we would have\", \"we'll\": \"we will\", \"we'll've\": \"we will have\", \"we're\": \"we are\", \"we've\": \"we have\", \"weren't\": \"were not\", \"what'll\": \"what will\", \"what'll've\": \"what will have\", \"what're\": \"what are\",  \"what's\": \"what is\", \"what've\": \"what have\", \"when's\": \"when is\", \"when've\": \"when have\", \"where'd\": \"where did\", \"where's\": \"where is\", \"where've\": \"where have\", \"who'll\": \"who will\", \"who'll've\": \"who will have\", \"who's\": \"who is\", \"who've\": \"who have\", \"why's\": \"why is\", \"why've\": \"why have\", \"will've\": \"will have\", \"won't\": \"will not\", \"won't've\": \"will not have\", \"would've\": \"would have\", \"wouldn't\": \"would not\", \"wouldn't've\": \"would not have\", \"y'all\": \"you all\", \"y'all'd\": \"you all would\",\"y'all'd've\": \"you all would have\",\"y'all're\": \"you all are\",\"y'all've\": \"you all have\",\"you'd\": \"you would\", \"you'd've\": \"you would have\", \"you'll\": \"you will\", \"you'll've\": \"you will have\", \"you're\": \"you are\", \"you've\": \"you have\", \"don't\" : \"do not\"}\n",
    "\n",
    "PUNCT_TO_REMOVE = string.punctuation\n",
    "def remove_punctuation(review):\n",
    "    return review.translate(str.maketrans('', '', PUNCT_TO_REMOVE))\n",
    "\n",
    "def clean_contractions(review, mapping):\n",
    "    specials = [\"’\", \"‘\", \"´\", \"`\", \"_\"]\n",
    "    for s in specials:\n",
    "        if s == \"_\":\n",
    "          review = review.replace(s, \" \")\n",
    "        else:\n",
    "          review = review.replace(s, \"'\")\n",
    "    review = ' '.join([mapping[t] if t in mapping else t for t in review.split(\" \")])\n",
    "    return review\n",
    "\n",
    "\n",
    "from nltk.corpus import stopwords\n",
    "STOPWORDS = set(stopwords.words('english'))\n",
    "def remove_stopwords(review):\n",
    "    return \" \".join([word for word in str(review).split() if word not in STOPWORDS])\n",
    "\n",
    "def word_replace(review):\n",
    "    return review.replace('<br />','')\n",
    "\n",
    "\n",
    "from nltk.stem.porter import PorterStemmer\n",
    "stemmer = PorterStemmer()\n",
    "def stem_words(review):\n",
    "    return \" \".join([stemmer.stem(word) for word in review.split()])\n",
    "\n",
    "\n",
    "from nltk.stem import WordNetLemmatizer\n",
    "lemmatizer = WordNetLemmatizer()\n",
    "def lemmatize_words(review):\n",
    "    return \" \".join([lemmatizer.lemmatize(word) for word in review.split()])\n",
    "\n",
    "\n",
    "def remove_urls(review):\n",
    "    url_pattern = re.compile(r'https?://\\S+|www\\.\\S+')\n",
    "    return url_pattern.sub(r'', review)\n",
    "\n",
    "\n",
    "def remove_html(review):\n",
    "    html_pattern = re.compile('<.*?>')\n",
    "    return html_pattern.sub(r'', review)\n",
    "\n",
    "\n",
    "def preprocess(review):\n",
    "    review=clean_contractions(review,mapping)\n",
    "    review=review.lower()\n",
    "    review=word_replace(review)\n",
    "    review=remove_urls(review)\n",
    "    review=remove_html(review)\n",
    "    review=remove_stopwords(review)\n",
    "    review=remove_punctuation(review)\n",
    "    # review=stem_words(review)\n",
    "    review=lemmatize_words(review)\n",
    "    \n",
    "    return review"
   ]
  },
  {
   "cell_type": "code",
   "execution_count": 8,
   "metadata": {
    "id": "xmVQCIR0pwDO"
   },
   "outputs": [],
   "source": [
    "data[\"review_p\"] = data[\"review\"].apply(lambda review: preprocess(review))"
   ]
  },
  {
   "cell_type": "code",
   "execution_count": 9,
   "metadata": {
    "colab": {
     "base_uri": "https://localhost:8080/"
    },
    "id": "lLLQNtcPrNF7",
    "outputId": "4c93e7fd-6589-4592-a9ce-0a2d9c71d711",
    "scrolled": false
   },
   "outputs": [
    {
     "name": "stdout",
     "output_type": "stream",
     "text": [
      "                                                  review  \\\n",
      "0      One of the other reviewers has mentioned that ...   \n",
      "1      A wonderful little production. <br /><br />The...   \n",
      "2      I thought this was a wonderful way to spend ti...   \n",
      "3      Basically there's a family where a little boy ...   \n",
      "4      Petter Mattei's \"Love in the Time of Money\" is...   \n",
      "...                                                  ...   \n",
      "49995  I thought this movie did a down right good job...   \n",
      "49996  Bad plot, bad dialogue, bad acting, idiotic di...   \n",
      "49997  I am a Catholic taught in parochial elementary...   \n",
      "49998  I'm going to have to disagree with the previou...   \n",
      "49999  No one expects the Star Trek movies to be high...   \n",
      "\n",
      "                                                review_p  \n",
      "0      one reviewer mentioned watching 1 oz episode h...  \n",
      "1      wonderful little production filming technique ...  \n",
      "2      thought wonderful way spend time hot summer we...  \n",
      "3      basically family little boy jake think zombie ...  \n",
      "4      petter matteis love time money visually stunni...  \n",
      "...                                                  ...  \n",
      "49995  thought movie right good job creative original...  \n",
      "49996  bad plot bad dialogue bad acting idiotic direc...  \n",
      "49997  catholic taught parochial elementary school nu...  \n",
      "49998  going disagree previous comment side maltin on...  \n",
      "49999  one expects star trek movie high art fan expec...  \n",
      "\n",
      "[50000 rows x 2 columns]\n"
     ]
    }
   ],
   "source": [
    "print(data[['review', 'review_p']])"
   ]
  },
  {
   "cell_type": "markdown",
   "metadata": {
    "id": "0EYfOGHFrdUH"
   },
   "source": [
    "--------------\n",
    "### Evaluation Metric\n",
    "-------------\n",
    "1. **Accuracy** represents the number of correctly classified data instances over the total number of data instances.\n",
    "\n",
    "2. **Precision** quantifies the number of positive class predictions that actually belong to the positive class. \n",
    "\n",
    "3. **Recall** quantifies the number of positive class predictions made out of all positive examples in the dataset.\n",
    "\n",
    "4. **F1-score** is a metric which takes into account both precision and recall.\n",
    "\n",
    "\n"
   ]
  },
  {
   "cell_type": "code",
   "execution_count": 10,
   "metadata": {
    "id": "AoMSI29krgzH"
   },
   "outputs": [],
   "source": [
    "def metrics(model,x,y):\n",
    "    y_pred = model.predict(x)\n",
    "    acc = accuracy_score(y, y_pred)\n",
    "    f1=f1_score(y, y_pred)\n",
    "    cm=confusion_matrix(y, y_pred)\n",
    "    report=classification_report(y,y_pred)\n",
    "    plt.figure(figsize=(4,4))\n",
    "    sns.heatmap(cm,annot=True,cmap='coolwarm',xticklabels=[0,1],fmt='d',annot_kws={\"fontsize\":19})\n",
    "    plt.xlabel(\"Predicted\",fontsize=16)\n",
    "    plt.ylabel(\"Actual\",fontsize=16)\n",
    "    plt.show()\n",
    "    print(\"\\nAccuracy: \",round(acc,2))\n",
    "    print(\"\\nF1 Score: \",round(f1,2))\n",
    "#     print(\"\\nConfusion Matrix: \\n\",cm)\n",
    "    print(\"\\nReport:\",report)\n",
    "    "
   ]
  },
  {
   "cell_type": "markdown",
   "metadata": {
    "id": "e87eNVXVsC2r"
   },
   "source": [
    "---------\n",
    "### Model based on Indirect Features\n",
    "-----------\n",
    "#### Features a Logistic Regression Model that uses Indirect features defined earlier to classify movie reviews into their respective labels"
   ]
  },
  {
   "cell_type": "code",
   "execution_count": 11,
   "metadata": {
    "id": "OlhArKd1sGJ-"
   },
   "outputs": [],
   "source": [
    "X=data[['count_sent', 'count_word', 'count_unique_word',\n",
    "       'count_letters', 'count_punctuations', 'count_words_upper',\n",
    "       'count_words_title', 'count_stopwords', 'mean_word_len',\n",
    "       'word_unique_percent', 'punct_percent']]\n",
    "y=data['sentiment']"
   ]
  },
  {
   "cell_type": "code",
   "execution_count": null,
   "metadata": {
    "id": "cBpEC1uYsLPx"
   },
   "outputs": [],
   "source": [
    "X_train, X_test, y_train, y_test = train_test_split(X,y, test_size=0.2,random_state=0)"
   ]
  },
  {
   "cell_type": "code",
   "execution_count": null,
   "metadata": {
    "colab": {
     "base_uri": "https://localhost:8080/",
     "height": 582
    },
    "id": "RlPpX4SAsnd7",
    "outputId": "88f160bd-8b13-48df-aba6-4d0333980c20"
   },
   "outputs": [],
   "source": [
    "classifier = LogisticRegression(C=0.1, solver='sag')\n",
    "classifier.fit(X_train, y_train)\n",
    "metrics(classifier,X_test,y_test)"
   ]
  },
  {
   "cell_type": "markdown",
   "metadata": {
    "id": "id2pa_POdKBI"
   },
   "source": [
    "#### As expected, the classification model performed poorly and gave an accuracy of just 58%. We then proceeded to using TextBlob which is a Lexicon-based sentiment analyzer, for training the classification model."
   ]
  },
  {
   "cell_type": "markdown",
   "metadata": {
    "id": "rpOa6137bouu"
   },
   "source": [
    "-------\n",
    "### N-gram Analysis\n",
    "-----------\n",
    "\n",
    "#### In this section we tried to identify the most suitable value of N in ngram_range parameter of the word and count vectorizer present in sklearn library. \n"
   ]
  },
  {
   "cell_type": "code",
   "execution_count": null,
   "metadata": {
    "id": "P8azARn5boZs"
   },
   "outputs": [],
   "source": [
    "reviews = ' '.join(data['review_p'])\n",
    "string = reviews.split(\" \")"
   ]
  },
  {
   "cell_type": "code",
   "execution_count": null,
   "metadata": {
    "id": "_kJLDGVyb13F"
   },
   "outputs": [],
   "source": [
    "def draw_n_gram(string,i):\n",
    "    n_gram = (pd.Series(nltk.ngrams(string, i)).value_counts())[:7]\n",
    "    n_gram_df=pd.DataFrame(n_gram)\n",
    "    n_gram_df = n_gram_df.reset_index()\n",
    "    n_gram_df = n_gram_df.rename(columns={\"index\": \"word\", 0: \"count\"})\n",
    "    print(n_gram_df.head())\n",
    "    plt.figure(figsize = (10,5))\n",
    "    return sns.barplot(x='count',y='word', data=n_gram_df)"
   ]
  },
  {
   "cell_type": "markdown",
   "metadata": {
    "id": "tfpDBBuWehQE"
   },
   "source": [
    "*N-gram N = 1*"
   ]
  },
  {
   "cell_type": "code",
   "execution_count": null,
   "metadata": {
    "colab": {
     "base_uri": "https://localhost:8080/",
     "height": 455
    },
    "id": "5vkLChqxb3k4",
    "outputId": "4969a3f0-096c-4350-a543-d33a63b401aa"
   },
   "outputs": [],
   "source": [
    "draw_n_gram(string,1)"
   ]
  },
  {
   "cell_type": "markdown",
   "metadata": {
    "id": "RkUAjH6ee708"
   },
   "source": [
    "*N-gram N = 2*"
   ]
  },
  {
   "cell_type": "code",
   "execution_count": null,
   "metadata": {
    "colab": {
     "base_uri": "https://localhost:8080/",
     "height": 430
    },
    "id": "fH7VQykVb3wm",
    "outputId": "e9fed57d-93f8-4ccc-ff0a-2593c66e5642"
   },
   "outputs": [],
   "source": [
    "draw_n_gram(string,2)"
   ]
  },
  {
   "cell_type": "markdown",
   "metadata": {
    "id": "flUuuCJ7e9-Q"
   },
   "source": [
    "*N-gram N = 3*"
   ]
  },
  {
   "cell_type": "code",
   "execution_count": null,
   "metadata": {
    "colab": {
     "base_uri": "https://localhost:8080/",
     "height": 426
    },
    "id": "87AxPsT6b3_1",
    "outputId": "6aa56724-c098-48ff-a58c-a7ff0b61a16b"
   },
   "outputs": [],
   "source": [
    "draw_n_gram(string,3)"
   ]
  },
  {
   "cell_type": "markdown",
   "metadata": {
    "id": "FvQHR75ZfDig"
   },
   "source": [
    "#### Upon investigation, Trigram seemed the most suitable appropriate for our usecase and we chose ngram_range = (1,3) for our vectorizers."
   ]
  },
  {
   "cell_type": "markdown",
   "metadata": {
    "id": "nH6k8ZvBuQsf"
   },
   "source": [
    "--------\n",
    "#### Frequency Based Vectorization\n",
    "---\n",
    "#### This involves the mapping of a word using a dictionary to a vector.\n"
   ]
  },
  {
   "cell_type": "code",
   "execution_count": 12,
   "metadata": {
    "id": "0MWzKCTQuToW"
   },
   "outputs": [],
   "source": [
    "X_train, X_test, y_train, y_test = train_test_split(data['review_p'], data['sentiment'], test_size=0.2,random_state=0)"
   ]
  },
  {
   "cell_type": "code",
   "execution_count": 13,
   "metadata": {
    "colab": {
     "base_uri": "https://localhost:8080/"
    },
    "id": "JtqYUYzcuUyd",
    "outputId": "fb367bd6-5baf-4fff-df38-6e4306498465"
   },
   "outputs": [
    {
     "data": {
      "text/plain": [
       "[(40000,), (10000,), (40000,), (10000,)]"
      ]
     },
     "execution_count": 13,
     "metadata": {},
     "output_type": "execute_result"
    }
   ],
   "source": [
    "[i.shape for i in [X_train, X_test, y_train, y_test] ]"
   ]
  },
  {
   "cell_type": "code",
   "execution_count": 14,
   "metadata": {
    "id": "Bdtsu4cAudHG"
   },
   "outputs": [],
   "source": [
    "word_vectorizer = TfidfVectorizer(\n",
    "    sublinear_tf=True,\n",
    "    strip_accents='unicode',\n",
    "    analyzer='word',\n",
    "    token_pattern=r'\\w{1,}',\n",
    "    stop_words='english',\n",
    "    ngram_range=(1, 3),\n",
    "    max_features=10000\n",
    ")\n",
    "\n",
    "word_vectorizer.fit(data['review_p'])\n",
    "\n",
    "tfidf_train = word_vectorizer.transform(X_train)\n",
    "tfidf_test = word_vectorizer.transform(X_test)"
   ]
  },
  {
   "cell_type": "code",
   "execution_count": 15,
   "metadata": {
    "colab": {
     "base_uri": "https://localhost:8080/"
    },
    "id": "SvL2bPcnutB_",
    "outputId": "fe7ecfb5-8f10-494a-9b98-6f2b941c354c"
   },
   "outputs": [
    {
     "name": "stdout",
     "output_type": "stream",
     "text": [
      "Shape of tfidf_train: (40000, 10000)\n",
      "Shape of tfidf_test: (10000, 10000)\n"
     ]
    }
   ],
   "source": [
    "print('Shape of tfidf_train:',tfidf_train.shape)\n",
    "print('Shape of tfidf_test:',tfidf_test.shape)"
   ]
  },
  {
   "cell_type": "code",
   "execution_count": null,
   "metadata": {
    "id": "-9cTrcotuwSw"
   },
   "outputs": [],
   "source": [
    "cv=CountVectorizer(analyzer = 'word', token_pattern = r'\\w{1,}',ngram_range=(1,3),max_features=10000)\n",
    "cv.fit(data['review_p'])\n",
    "cv_train=cv.transform(X_train)\n",
    "cv_test=cv.transform(X_test)"
   ]
  },
  {
   "cell_type": "code",
   "execution_count": null,
   "metadata": {
    "colab": {
     "base_uri": "https://localhost:8080/"
    },
    "id": "B1oeYJ9cvADg",
    "outputId": "4911b3f2-9a4f-41fa-8546-33363d91661e"
   },
   "outputs": [],
   "source": [
    "print('Shape of cv_train:',cv_train.shape)\n",
    "print('Shape of cv_test:',cv_test.shape)"
   ]
  },
  {
   "cell_type": "code",
   "execution_count": null,
   "metadata": {
    "colab": {
     "base_uri": "https://localhost:8080/",
     "height": 527
    },
    "id": "2tDCHyF0vDaa",
    "outputId": "00b04805-b1bd-42c8-f8da-51f47d453981",
    "scrolled": false
   },
   "outputs": [],
   "source": [
    "# Logistic Regression with TF-IDF\n",
    "classifier = LogisticRegression(penalty='l2',C=0.5, solver = 'newton-cg')\n",
    "classifier.fit(tfidf_train, y_train)\n",
    "metrics(classifier,tfidf_test,y_test)"
   ]
  },
  {
   "cell_type": "code",
   "execution_count": 16,
   "metadata": {
    "id": "uczI2agWyOgc"
   },
   "outputs": [],
   "source": [
    "from sklearn.naive_bayes import MultinomialNB"
   ]
  },
  {
   "cell_type": "code",
   "execution_count": 17,
   "metadata": {
    "colab": {
     "base_uri": "https://localhost:8080/",
     "height": 527
    },
    "id": "Y1vDX6gxyG1T",
    "outputId": "13f0ac08-3d55-454c-d29c-13a6f5d46f3e"
   },
   "outputs": [
    {
     "data": {
      "image/png": "[encoded data removed]",
      "text/plain": [
       "<Figure size 400x400 with 2 Axes>"
      ]
     },
     "metadata": {},
     "output_type": "display_data"
    },
    {
     "name": "stdout",
     "output_type": "stream",
     "text": [
      "\n",
      "Accuracy:  0.86\n",
      "\n",
      "F1 Score:  0.86\n",
      "\n",
      "Report:               precision    recall  f1-score   support\n",
      "\n",
      "           0       0.87      0.85      0.86      5035\n",
      "           1       0.85      0.87      0.86      4965\n",
      "\n",
      "    accuracy                           0.86     10000\n",
      "   macro avg       0.86      0.86      0.86     10000\n",
      "weighted avg       0.86      0.86      0.86     10000\n",
      "\n"
     ]
    }
   ],
   "source": [
    "#Naive Bayes with TF-IDF\n",
    "#Model which we use\n",
    "model= MultinomialNB()\n",
    "\n",
    "model.fit(tfidf_train, y_train)\n",
    "metrics(model,tfidf_test,y_test)"
   ]
  },
  {
   "cell_type": "code",
   "execution_count": null,
   "metadata": {
    "colab": {
     "base_uri": "https://localhost:8080/",
     "height": 527
    },
    "id": "TWsiwpW0yJcm",
    "outputId": "52c3b18d-8f79-453d-ddcb-4871e8651251"
   },
   "outputs": [],
   "source": [
    "#Naive Bayes with Count Vectorizer\n",
    "modela= MultinomialNB()\n",
    "\n",
    "modela.fit(cv_train, y_train)\n",
    "metrics(modela,cv_test,y_test)"
   ]
  },
  {
   "cell_type": "code",
   "execution_count": null,
   "metadata": {
    "colab": {
     "base_uri": "https://localhost:8080/",
     "height": 527
    },
    "id": "H0ImM8enyZho",
    "outputId": "0e728619-b03b-417d-c380-01a52dec86fd"
   },
   "outputs": [],
   "source": [
    "#Default XGBoost Model with TF_IDF\n",
    "model = XGBClassifier() \n",
    "model.fit(tfidf_train, y_train)\n",
    "\n",
    "metrics(model,tfidf_test,y_test)"
   ]
  },
  {
   "cell_type": "code",
   "execution_count": null,
   "metadata": {
    "colab": {
     "base_uri": "https://localhost:8080/",
     "height": 527
    },
    "id": "wKV0-YZrwIrU",
    "outputId": "1f3fc60e-e1b3-4bbf-859c-14a376918bcb"
   },
   "outputs": [],
   "source": [
    "#Default XGBoost Model with Count Vectorizer\n",
    "modelcv = XGBClassifier() \n",
    "modelcv.fit(cv_train, y_train)\n",
    "\n",
    "metrics(modelcv,cv_test,y_test)\n"
   ]
  },
  {
   "cell_type": "code",
   "execution_count": null,
   "metadata": {
    "colab": {
     "base_uri": "https://localhost:8080/",
     "height": 527
    },
    "id": "GCHUQE5xvHne",
    "outputId": "fbd43993-153f-4963-b17a-7a2410b0e1d5"
   },
   "outputs": [],
   "source": [
    "#SVM with TF-IDF\n",
    "from sklearn.svm import LinearSVC\n",
    "\n",
    "linear_svc = LinearSVC(penalty='l2')\n",
    "linear_svc.fit(tfidf_train, y_train)\n",
    "metrics(linear_svc,tfidf_test,y_test)"
   ]
  },
  {
   "cell_type": "code",
   "execution_count": null,
   "metadata": {
    "colab": {
     "base_uri": "https://localhost:8080/",
     "height": 582
    },
    "id": "aefGIzyAy36J",
    "outputId": "fb115d71-2634-4ef0-dee0-13ec4c19ce39"
   },
   "outputs": [],
   "source": [
    "#SVM with Count Vectorizer\n",
    "linear_svc1 = LinearSVC(C=0.1, random_state=20000)\n",
    "linear_svc1.fit(cv_train, y_train)\n",
    "\n",
    "metrics(linear_svc1,cv_test,y_test)"
   ]
  },
  {
   "cell_type": "markdown",
   "metadata": {
    "id": "j1OAl6vJYb2g"
   },
   "source": [
    "#### Logistic Regression using word vectorizer and SVM using word vectorizer gave the largest accuracy of 89% for the given dataset."
   ]
  },
  {
   "cell_type": "code",
   "execution_count": 19,
   "metadata": {},
   "outputs": [],
   "source": [
    "from sklearn import pipeline"
   ]
  },
  {
   "cell_type": "code",
   "execution_count": 21,
   "metadata": {},
   "outputs": [],
   "source": [
    "model_pipe = pipeline.Pipeline([('wv',word_vectorizer),('model',model)])"
   ]
  },
  {
   "cell_type": "code",
   "execution_count": 22,
   "metadata": {},
   "outputs": [
    {
     "data": {
      "text/html": [
       "<style>#sk-container-id-1 {color: black;background-color: white;}#sk-container-id-1 pre{padding: 0;}#sk-container-id-1 div.sk-toggleable {background-color: white;}#sk-container-id-1 label.sk-toggleable__label {cursor: pointer;display: block;width: 100%;margin-bottom: 0;padding: 0.3em;box-sizing: border-box;text-align: center;}#sk-container-id-1 label.sk-toggleable__label-arrow:before {content: \"▸\";float: left;margin-right: 0.25em;color: #696969;}#sk-container-id-1 label.sk-toggleable__label-arrow:hover:before {color: black;}#sk-container-id-1 div.sk-estimator:hover label.sk-toggleable__label-arrow:before {color: black;}#sk-container-id-1 div.sk-toggleable__content {max-height: 0;max-width: 0;overflow: hidden;text-align: left;background-color: #f0f8ff;}#sk-container-id-1 div.sk-toggleable__content pre {margin: 0.2em;color: black;border-radius: 0.25em;background-color: #f0f8ff;}#sk-container-id-1 input.sk-toggleable__control:checked~div.sk-toggleable__content {max-height: 200px;max-width: 100%;overflow: auto;}#sk-container-id-1 input.sk-toggleable__control:checked~label.sk-toggleable__label-arrow:before {content: \"▾\";}#sk-container-id-1 div.sk-estimator input.sk-toggleable__control:checked~label.sk-toggleable__label {background-color: #d4ebff;}#sk-container-id-1 div.sk-label input.sk-toggleable__control:checked~label.sk-toggleable__label {background-color: #d4ebff;}#sk-container-id-1 input.sk-hidden--visually {border: 0;clip: rect(1px 1px 1px 1px);clip: rect(1px, 1px, 1px, 1px);height: 1px;margin: -1px;overflow: hidden;padding: 0;position: absolute;width: 1px;}#sk-container-id-1 div.sk-estimator {font-family: monospace;background-color: #f0f8ff;border: 1px dotted black;border-radius: 0.25em;box-sizing: border-box;margin-bottom: 0.5em;}#sk-container-id-1 div.sk-estimator:hover {background-color: #d4ebff;}#sk-container-id-1 div.sk-parallel-item::after {content: \"\";width: 100%;border-bottom: 1px solid gray;flex-grow: 1;}#sk-container-id-1 div.sk-label:hover label.sk-toggleable__label {background-color: #d4ebff;}#sk-container-id-1 div.sk-serial::before {content: \"\";position: absolute;border-left: 1px solid gray;box-sizing: border-box;top: 0;bottom: 0;left: 50%;z-index: 0;}#sk-container-id-1 div.sk-serial {display: flex;flex-direction: column;align-items: center;background-color: white;padding-right: 0.2em;padding-left: 0.2em;position: relative;}#sk-container-id-1 div.sk-item {position: relative;z-index: 1;}#sk-container-id-1 div.sk-parallel {display: flex;align-items: stretch;justify-content: center;background-color: white;position: relative;}#sk-container-id-1 div.sk-item::before, #sk-container-id-1 div.sk-parallel-item::before {content: \"\";position: absolute;border-left: 1px solid gray;box-sizing: border-box;top: 0;bottom: 0;left: 50%;z-index: -1;}#sk-container-id-1 div.sk-parallel-item {display: flex;flex-direction: column;z-index: 1;position: relative;background-color: white;}#sk-container-id-1 div.sk-parallel-item:first-child::after {align-self: flex-end;width: 50%;}#sk-container-id-1 div.sk-parallel-item:last-child::after {align-self: flex-start;width: 50%;}#sk-container-id-1 div.sk-parallel-item:only-child::after {width: 0;}#sk-container-id-1 div.sk-dashed-wrapped {border: 1px dashed gray;margin: 0 0.4em 0.5em 0.4em;box-sizing: border-box;padding-bottom: 0.4em;background-color: white;}#sk-container-id-1 div.sk-label label {font-family: monospace;font-weight: bold;display: inline-block;line-height: 1.2em;}#sk-container-id-1 div.sk-label-container {text-align: center;}#sk-container-id-1 div.sk-container {/* jupyter's `normalize.less` sets `[hidden] { display: none; }` but bootstrap.min.css set `[hidden] { display: none !important; }` so we also need the `!important` here to be able to override the default hidden behavior on the sphinx rendered scikit-learn.org. See: https://github.com/scikit-learn/scikit-learn/issues/21755 */display: inline-block !important;position: relative;}#sk-container-id-1 div.sk-text-repr-fallback {display: none;}</style><div id=\"sk-container-id-1\" class=\"sk-top-container\"><div class=\"sk-text-repr-fallback\"><pre>Pipeline(steps=[(&#x27;wv&#x27;,\n",
       "                 TfidfVectorizer(max_features=10000, ngram_range=(1, 3),\n",
       "                                 stop_words=&#x27;english&#x27;, strip_accents=&#x27;unicode&#x27;,\n",
       "                                 sublinear_tf=True, token_pattern=&#x27;\\\\w{1,}&#x27;)),\n",
       "                (&#x27;model&#x27;, MultinomialNB())])</pre><b>In a Jupyter environment, please rerun this cell to show the HTML representation or trust the notebook. <br />On GitHub, the HTML representation is unable to render, please try loading this page with nbviewer.org.</b></div><div class=\"sk-container\" hidden><div class=\"sk-item sk-dashed-wrapped\"><div class=\"sk-label-container\"><div class=\"sk-label sk-toggleable\"><input class=\"sk-toggleable__control sk-hidden--visually\" id=\"sk-estimator-id-1\" type=\"checkbox\" ><label for=\"sk-estimator-id-1\" class=\"sk-toggleable__label sk-toggleable__label-arrow\">Pipeline</label><div class=\"sk-toggleable__content\"><pre>Pipeline(steps=[(&#x27;wv&#x27;,\n",
       "                 TfidfVectorizer(max_features=10000, ngram_range=(1, 3),\n",
       "                                 stop_words=&#x27;english&#x27;, strip_accents=&#x27;unicode&#x27;,\n",
       "                                 sublinear_tf=True, token_pattern=&#x27;\\\\w{1,}&#x27;)),\n",
       "                (&#x27;model&#x27;, MultinomialNB())])</pre></div></div></div><div class=\"sk-serial\"><div class=\"sk-item\"><div class=\"sk-estimator sk-toggleable\"><input class=\"sk-toggleable__control sk-hidden--visually\" id=\"sk-estimator-id-2\" type=\"checkbox\" ><label for=\"sk-estimator-id-2\" class=\"sk-toggleable__label sk-toggleable__label-arrow\">TfidfVectorizer</label><div class=\"sk-toggleable__content\"><pre>TfidfVectorizer(max_features=10000, ngram_range=(1, 3), stop_words=&#x27;english&#x27;,\n",
       "                strip_accents=&#x27;unicode&#x27;, sublinear_tf=True,\n",
       "                token_pattern=&#x27;\\\\w{1,}&#x27;)</pre></div></div></div><div class=\"sk-item\"><div class=\"sk-estimator sk-toggleable\"><input class=\"sk-toggleable__control sk-hidden--visually\" id=\"sk-estimator-id-3\" type=\"checkbox\" ><label for=\"sk-estimator-id-3\" class=\"sk-toggleable__label sk-toggleable__label-arrow\">MultinomialNB</label><div class=\"sk-toggleable__content\"><pre>MultinomialNB()</pre></div></div></div></div></div></div></div>"
      ],
      "text/plain": [
       "Pipeline(steps=[('wv',\n",
       "                 TfidfVectorizer(max_features=10000, ngram_range=(1, 3),\n",
       "                                 stop_words='english', strip_accents='unicode',\n",
       "                                 sublinear_tf=True, token_pattern='\\\\w{1,}')),\n",
       "                ('model', MultinomialNB())])"
      ]
     },
     "execution_count": 22,
     "metadata": {},
     "output_type": "execute_result"
    }
   ],
   "source": [
    "model_pipe"
   ]
  },
  {
   "cell_type": "code",
   "execution_count": 23,
   "metadata": {},
   "outputs": [],
   "source": [
    "import pickle"
   ]
  },
  {
   "cell_type": "code",
   "execution_count": 24,
   "metadata": {},
   "outputs": [],
   "source": [
    "new_file = open('model.pkl','wb')\n",
    "pickle.dump(model_pipe,new_file)\n",
    "new_file.close()"
   ]
  },
  {
   "cell_type": "code",
   "execution_count": 25,
   "metadata": {},
   "outputs": [
    {
     "name": "stdout",
     "output_type": "stream",
     "text": [
      "True\n"
     ]
    }
   ],
   "source": [
    "print(X_train[0]==data['review_p'][0])"
   ]
  },
  {
   "cell_type": "code",
   "execution_count": null,
   "metadata": {
    "scrolled": false
   },
   "outputs": [],
   "source": [
    "print(data['review_p'][0])"
   ]
  },
  {
   "cell_type": "code",
   "execution_count": 43,
   "metadata": {},
   "outputs": [
    {
     "name": "stdout",
     "output_type": "stream",
     "text": [
      "The review is Fake\n"
     ]
    }
   ],
   "source": [
    "res = model_pipe.predict(X_test)[1]\n",
    "if res==0:\n",
    "    print(\"The review is Fake\")\n",
    "else:\n",
    "    print(\"The review is genuine\")"
   ]
  },
  {
   "cell_type": "code",
   "execution_count": 39,
   "metadata": {},
   "outputs": [
    {
     "name": "stdout",
     "output_type": "stream",
     "text": [
      "11841    john cassavetes run law bottom heap see negro ...\n",
      "19602    movie lame that movie unnecessary need another...\n",
      "45519    well ethel water 7yearold sammy davis jr here ...\n",
      "25747    find alan jacob review accurate concerning mov...\n",
      "42642    movie simply awesome hilarious although skatin...\n",
      "                               ...                        \n",
      "25091    terrible script manage attract cast ridiculous...\n",
      "27853    invited view film small art museum screening c...\n",
      "47278    first allthere detective storylégitime défense...\n",
      "37020    movie grabbed incredible opening sequence tric...\n",
      "2217     saw film sxsw director attendance quite people...\n",
      "Name: review_p, Length: 10000, dtype: object 11841    1\n",
      "19602    0\n",
      "45519    0\n",
      "25747    1\n",
      "42642    1\n",
      "        ..\n",
      "25091    0\n",
      "27853    0\n",
      "47278    1\n",
      "37020    1\n",
      "2217     0\n",
      "Name: sentiment, Length: 10000, dtype: int64\n"
     ]
    }
   ],
   "source": [
    "print(X_test,y_test)"
   ]
  }
 ],
 "metadata": {
  "colab": {
   "collapsed_sections": [],
   "provenance": []
  },
  "kernelspec": {
   "display_name": "Python 3 (ipykernel)",
   "language": "python",
   "name": "python3"
  },
  "language_info": {
   "codemirror_mode": {
    "name": "ipython",
    "version": 3
   },
   "file_extension": ".py",
   "mimetype": "text/x-python",
   "name": "python",
   "nbconvert_exporter": "python",
   "pygments_lexer": "ipython3",
   "version": "3.10.7"
  }
 },
 "nbformat": 4,
 "nbformat_minor": 1
}
